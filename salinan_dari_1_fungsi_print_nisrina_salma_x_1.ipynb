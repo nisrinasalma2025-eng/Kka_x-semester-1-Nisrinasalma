{
  "nbformat": 4,
  "nbformat_minor": 0,
  "metadata": {
    "colab": {
      "provenance": [],
      "authorship_tag": "ABX9TyO5ebBxoJ6bR+I4cYSzrbUj",
      "include_colab_link": true
    },
    "kernelspec": {
      "name": "python3",
      "display_name": "Python 3"
    },
    "language_info": {
      "name": "python"
    }
  },
  "cells": [
    {
      "cell_type": "markdown",
      "metadata": {
        "id": "view-in-github",
        "colab_type": "text"
      },
      "source": [
        "<a href=\"https://colab.research.google.com/github/nisrinasalma2025-eng/Kka_x-semester-1-Nisrinasalma/blob/main/salinan_dari_1_fungsi_print_nisrina_salma_x_1.ipynb\" target=\"_parent\"><img src=\"https://colab.research.google.com/assets/colab-badge.svg\" alt=\"Open In Colab\"/></a>"
      ]
    },
    {
      "cell_type": "code",
      "source": [
        "nama_panjang = \"Nisrina salma\""
      ],
      "metadata": {
        "id": "P3PTygT8Bb55"
      },
      "execution_count": null,
      "outputs": []
    },
    {
      "cell_type": "code",
      "source": [
        "nama_idola =\"Sandrina michele\""
      ],
      "metadata": {
        "id": "TGFftCU2BcNJ"
      },
      "execution_count": null,
      "outputs": []
    },
    {
      "cell_type": "code",
      "source": [
        "usia = 16"
      ],
      "metadata": {
        "id": "Vp2rtY4WB7l_"
      },
      "execution_count": null,
      "outputs": []
    },
    {
      "cell_type": "code",
      "source": [
        "nama_saudara = \"Nuril dan safira\""
      ],
      "metadata": {
        "id": "wWUeuhAzCGdT"
      },
      "execution_count": null,
      "outputs": []
    },
    {
      "cell_type": "code",
      "source": [
        "jumlah_saudara = 2"
      ],
      "metadata": {
        "id": "vHVX6_zGCR4C"
      },
      "execution_count": null,
      "outputs": []
    },
    {
      "cell_type": "markdown",
      "source": [
        "menampilkan nilai variabel dan string"
      ],
      "metadata": {
        "id": "6l0PaSDmCkVA"
      }
    },
    {
      "cell_type": "code",
      "source": [
        "print(\"nama idola saya adalah\",nama_idola,\". usianya adalah\",usia,\"tahun.\")"
      ],
      "metadata": {
        "colab": {
          "base_uri": "https://localhost:8080/",
          "height": 253
        },
        "id": "wGezsfBeD3Fp",
        "outputId": "42baf2e7-f543-461a-9408-127aec77a1ff"
      },
      "execution_count": null,
      "outputs": [
        {
          "output_type": "error",
          "ename": "NameError",
          "evalue": "name 'nama_idola' is not defined",
          "traceback": [
            "\u001b[0;31m---------------------------------------------------------------------------\u001b[0m",
            "\u001b[0;31mNameError\u001b[0m                                 Traceback (most recent call last)",
            "\u001b[0;32m/tmp/ipython-input-1232401788.py\u001b[0m in \u001b[0;36m<cell line: 0>\u001b[0;34m()\u001b[0m\n\u001b[0;32m----> 1\u001b[0;31m \u001b[0mprint\u001b[0m\u001b[0;34m(\u001b[0m\u001b[0;34m\"nama idola saya adalah\"\u001b[0m\u001b[0;34m,\u001b[0m\u001b[0mnama_idola\u001b[0m\u001b[0;34m,\u001b[0m\u001b[0;34m\". usianya adalah\"\u001b[0m\u001b[0;34m,\u001b[0m\u001b[0musia\u001b[0m\u001b[0;34m,\u001b[0m\u001b[0;34m\"tahun.\"\u001b[0m\u001b[0;34m)\u001b[0m\u001b[0;34m\u001b[0m\u001b[0;34m\u001b[0m\u001b[0m\n\u001b[0m",
            "\u001b[0;31mNameError\u001b[0m: name 'nama_idola' is not defined"
          ]
        }
      ]
    },
    {
      "cell_type": "markdown",
      "source": [
        "\"\"\" latihan soal\n",
        "    \n",
        "    Gunakan escape character:\n",
        "    tampilkan teks seperti dibawah ini:\n",
        "\n",
        "    bu sintha berkata. \"berikut adalah daftar piket harian kelas x.2 yang disimpan di file D:\\Mandemak\\j\n",
        "    \n",
        "    senin.    selasa.    rabu\n",
        "    jielo.    hasbi.     naufal\n",
        "    azam.     ainun.     nurul\n"
      ],
      "metadata": {
        "id": "XlCMHvlk-T_s"
      }
    },
    {
      "cell_type": "code",
      "source": [
        "print(\"nama idola saya adalah \"+nama_idola+\". usianya adalah \"str(usia)+\" tahun.\")"
      ],
      "metadata": {
        "colab": {
          "base_uri": "https://localhost:8080/",
          "height": 181
        },
        "id": "keJNq2CW3GgK",
        "outputId": "a096fed0-9791-4ba6-918e-201402aadea5"
      },
      "execution_count": null,
      "outputs": [
        {
          "output_type": "error",
          "ename": "SyntaxError",
          "evalue": "invalid syntax. Perhaps you forgot a comma? (ipython-input-174598579.py, line 1)",
          "traceback": [
            "\u001b[0;36m  File \u001b[0;32m\"/tmp/ipython-input-174598579.py\"\u001b[0;36m, line \u001b[0;32m1\u001b[0m\n\u001b[0;31m    print(\"nama idola saya adalah \"+nama_idola+\". usianya adalah \"str(usia)+\" tahun.\")\u001b[0m\n\u001b[0m          ^\u001b[0m\n\u001b[0;31mSyntaxError\u001b[0m\u001b[0;31m:\u001b[0m invalid syntax. Perhaps you forgot a comma?\n"
          ]
        }
      ]
    },
    {
      "cell_type": "markdown",
      "source": [
        "p karakter melarikan diri"
      ],
      "metadata": {
        "id": "CAcohte25svw"
      }
    },
    {
      "cell_type": "code",
      "source": [
        "print(\"nama:Nisrina\")\n",
        "print(\"kelas:x.1\")\n",
        "print(\"No. absen:2 \")"
      ],
      "metadata": {
        "colab": {
          "base_uri": "https://localhost:8080/"
        },
        "id": "uFkMUpea5yvV",
        "outputId": "84d49942-fd4d-4b0d-892c-479e0e60fbb5"
      },
      "execution_count": null,
      "outputs": [
        {
          "output_type": "stream",
          "name": "stdout",
          "text": [
            "nama:Nisrina\n",
            "kelas:x.1\n",
            "No. absen:2 \n"
          ]
        }
      ]
    },
    {
      "cell_type": "code",
      "source": [
        "print(\"Nama:Nisrina\\nkelas:x.1\\nNo . Absen: 24\")"
      ],
      "metadata": {
        "colab": {
          "base_uri": "https://localhost:8080/"
        },
        "id": "itdUm-Vq6Ywd",
        "outputId": "a9166266-fc6b-414b-9af9-6b23af46d4e5"
      },
      "execution_count": null,
      "outputs": [
        {
          "output_type": "stream",
          "name": "stdout",
          "text": [
            "Nama:Nisrina\n",
            "kelas:x.1\n",
            "No . Absen: 24\n"
          ]
        }
      ]
    },
    {
      "cell_type": "code",
      "source": [
        "print(\"\"\"Nama\\t\\t: nisrina\n",
        "kelas\\t\\t: x.1\n",
        "No. absen\\t: 24\"\"\")"
      ],
      "metadata": {
        "colab": {
          "base_uri": "https://localhost:8080/"
        },
        "id": "JeZ_9Cbz61II",
        "outputId": "144ab244-8102-4eae-ca24-0baae82e73df"
      },
      "execution_count": null,
      "outputs": [
        {
          "output_type": "stream",
          "name": "stdout",
          "text": [
            "Nama\t\t: nisrina\n",
            "kelas\t\t: x.1\n",
            "No. absen\t: 24\n"
          ]
        }
      ]
    },
    {
      "cell_type": "code",
      "source": [
        "print(\"nama saya nisrina salma\")"
      ],
      "metadata": {
        "colab": {
          "base_uri": "https://localhost:8080/"
        },
        "id": "LXRgAcdv8eSn",
        "outputId": "2832a00c-f518-4245-dff7-37457dbb16ee"
      },
      "execution_count": null,
      "outputs": [
        {
          "output_type": "stream",
          "name": "stdout",
          "text": [
            "nama saya nisrina salma\n"
          ]
        }
      ]
    },
    {
      "cell_type": "code",
      "source": [
        "print('nama saya nisrina salma')"
      ],
      "metadata": {
        "colab": {
          "base_uri": "https://localhost:8080/"
        },
        "id": "CUXKIUW18rVM",
        "outputId": "712f5eca-e5bb-4e39-e15f-3c4187d741db"
      },
      "execution_count": null,
      "outputs": [
        {
          "output_type": "stream",
          "name": "stdout",
          "text": [
            "nama saya nisrina salma\n"
          ]
        }
      ]
    },
    {
      "cell_type": "code",
      "source": [
        "print( \"nama saya nisrina salma'\")"
      ],
      "metadata": {
        "colab": {
          "base_uri": "https://localhost:8080/"
        },
        "id": "b9Rm3MCJ8w5y",
        "outputId": "e652baf0-8175-45bd-9bd7-fe4903c00ae1"
      },
      "execution_count": null,
      "outputs": [
        {
          "output_type": "stream",
          "name": "stdout",
          "text": [
            "nama saya nisrina salma'\n"
          ]
        }
      ]
    },
    {
      "cell_type": "code",
      "source": [
        "print( \"nisrina berkata \\\"bismillah\\\"\")"
      ],
      "metadata": {
        "colab": {
          "base_uri": "https://localhost:8080/"
        },
        "id": "l8GN5UU09IM4",
        "outputId": "d336ddab-6d63-489d-ad58-b7b6c8a12eff"
      },
      "execution_count": null,
      "outputs": [
        {
          "output_type": "stream",
          "name": "stdout",
          "text": [
            "nisrina berkata \"bismillah\"\n"
          ]
        }
      ]
    },
    {
      "cell_type": "code",
      "source": [
        "print(\"silahkan simpan gile tugas kkadi folder disk D:\\\\Man Demak kka\\\\tugas\\\\\")"
      ],
      "metadata": {
        "colab": {
          "base_uri": "https://localhost:8080/"
        },
        "id": "3BDvU8UD9ixU",
        "outputId": "d35e7472-0780-4cdf-aef0-2000d2270355"
      },
      "execution_count": null,
      "outputs": [
        {
          "output_type": "stream",
          "name": "stdout",
          "text": [
            "silahkan simpan gile tugas kkadi folder disk D:\\Man Demak kka\\tugas\\\n"
          ]
        }
      ]
    },
    {
      "cell_type": "code",
      "source": [
        "print(\"nama_siswa_1 = Dias\")\n",
        "print(\"nama_siswa_2 = Disa\")"
      ],
      "metadata": {
        "colab": {
          "base_uri": "https://localhost:8080/"
        },
        "id": "azoZnd3PApfo",
        "outputId": "2f0e04a4-7d2f-4a2d-ff9b-9a6908e19c8f"
      },
      "execution_count": null,
      "outputs": [
        {
          "output_type": "stream",
          "name": "stdout",
          "text": [
            "nama_siswa_1 = Dias\n",
            "nama_siswa_2 = Disa\n"
          ]
        }
      ]
    },
    {
      "cell_type": "code",
      "source": [
        "print(nama_siswa_1. ,  nama siswa_2,  sep =\"/\")"
      ],
      "metadata": {
        "colab": {
          "base_uri": "https://localhost:8080/",
          "height": 145
        },
        "id": "OAbRgCptBH0m",
        "outputId": "0863aba7-46a2-48eb-8bbe-e8635fc5d1d9"
      },
      "execution_count": null,
      "outputs": [
        {
          "output_type": "error",
          "ename": "SyntaxError",
          "evalue": "invalid syntax (ipython-input-1299842153.py, line 1)",
          "traceback": [
            "\u001b[0;36m  File \u001b[0;32m\"/tmp/ipython-input-1299842153.py\"\u001b[0;36m, line \u001b[0;32m1\u001b[0m\n\u001b[0;31m    print(nama_siswa_1. ,  nama siswa_2,  sep =\"/\")\u001b[0m\n\u001b[0m                        ^\u001b[0m\n\u001b[0;31mSyntaxError\u001b[0m\u001b[0;31m:\u001b[0m invalid syntax\n"
          ]
        }
      ]
    },
    {
      "cell_type": "code",
      "source": [],
      "metadata": {
        "id": "IYN1dX-xDVgK"
      },
      "execution_count": null,
      "outputs": []
    }
  ]
}